{
 "cells": [
  {
   "cell_type": "code",
   "execution_count": 1,
   "metadata": {},
   "outputs": [],
   "source": [
    "# Importing Pandas and NumPy\n",
    "import pandas as pd\n",
    "import numpy as np\n",
    "import matplotlib.pyplot as plt\n",
    "import seaborn as sns\n",
    "%matplotlib inline"
   ]
  },
  {
   "cell_type": "code",
   "execution_count": 2,
   "metadata": {},
   "outputs": [],
   "source": [
    "housing = pd.read_csv(\"newhousing.csv\")"
   ]
  },
  {
   "cell_type": "code",
   "execution_count": 3,
   "metadata": {},
   "outputs": [
    {
     "data": {
      "text/html": [
       "<div>\n",
       "<style scoped>\n",
       "    .dataframe tbody tr th:only-of-type {\n",
       "        vertical-align: middle;\n",
       "    }\n",
       "\n",
       "    .dataframe tbody tr th {\n",
       "        vertical-align: top;\n",
       "    }\n",
       "\n",
       "    .dataframe thead th {\n",
       "        text-align: right;\n",
       "    }\n",
       "</style>\n",
       "<table border=\"1\" class=\"dataframe\">\n",
       "  <thead>\n",
       "    <tr style=\"text-align: right;\">\n",
       "      <th></th>\n",
       "      <th>price</th>\n",
       "      <th>area</th>\n",
       "      <th>bedrooms</th>\n",
       "      <th>bathrooms</th>\n",
       "      <th>stories</th>\n",
       "      <th>mainroad</th>\n",
       "      <th>guestroom</th>\n",
       "      <th>basement</th>\n",
       "      <th>hotwaterheating</th>\n",
       "      <th>airconditioning</th>\n",
       "      <th>parking</th>\n",
       "      <th>prefarea</th>\n",
       "      <th>semi-furnished</th>\n",
       "      <th>unfurnished</th>\n",
       "      <th>areaperbedroom</th>\n",
       "      <th>bbratio</th>\n",
       "    </tr>\n",
       "  </thead>\n",
       "  <tbody>\n",
       "    <tr>\n",
       "      <th>0</th>\n",
       "      <td>5250000</td>\n",
       "      <td>5500</td>\n",
       "      <td>3</td>\n",
       "      <td>2</td>\n",
       "      <td>1</td>\n",
       "      <td>1</td>\n",
       "      <td>0</td>\n",
       "      <td>1</td>\n",
       "      <td>0</td>\n",
       "      <td>0</td>\n",
       "      <td>0</td>\n",
       "      <td>0</td>\n",
       "      <td>1</td>\n",
       "      <td>0</td>\n",
       "      <td>1833.333333</td>\n",
       "      <td>0.666667</td>\n",
       "    </tr>\n",
       "    <tr>\n",
       "      <th>1</th>\n",
       "      <td>4480000</td>\n",
       "      <td>4040</td>\n",
       "      <td>3</td>\n",
       "      <td>1</td>\n",
       "      <td>2</td>\n",
       "      <td>1</td>\n",
       "      <td>0</td>\n",
       "      <td>0</td>\n",
       "      <td>0</td>\n",
       "      <td>0</td>\n",
       "      <td>1</td>\n",
       "      <td>0</td>\n",
       "      <td>1</td>\n",
       "      <td>0</td>\n",
       "      <td>1346.666667</td>\n",
       "      <td>0.333333</td>\n",
       "    </tr>\n",
       "    <tr>\n",
       "      <th>2</th>\n",
       "      <td>3570000</td>\n",
       "      <td>3640</td>\n",
       "      <td>2</td>\n",
       "      <td>1</td>\n",
       "      <td>1</td>\n",
       "      <td>1</td>\n",
       "      <td>0</td>\n",
       "      <td>0</td>\n",
       "      <td>0</td>\n",
       "      <td>0</td>\n",
       "      <td>0</td>\n",
       "      <td>0</td>\n",
       "      <td>0</td>\n",
       "      <td>1</td>\n",
       "      <td>1820.000000</td>\n",
       "      <td>0.500000</td>\n",
       "    </tr>\n",
       "    <tr>\n",
       "      <th>3</th>\n",
       "      <td>2870000</td>\n",
       "      <td>3040</td>\n",
       "      <td>2</td>\n",
       "      <td>1</td>\n",
       "      <td>1</td>\n",
       "      <td>0</td>\n",
       "      <td>0</td>\n",
       "      <td>0</td>\n",
       "      <td>0</td>\n",
       "      <td>0</td>\n",
       "      <td>0</td>\n",
       "      <td>0</td>\n",
       "      <td>0</td>\n",
       "      <td>1</td>\n",
       "      <td>1520.000000</td>\n",
       "      <td>0.500000</td>\n",
       "    </tr>\n",
       "    <tr>\n",
       "      <th>4</th>\n",
       "      <td>3570000</td>\n",
       "      <td>4500</td>\n",
       "      <td>2</td>\n",
       "      <td>1</td>\n",
       "      <td>1</td>\n",
       "      <td>0</td>\n",
       "      <td>0</td>\n",
       "      <td>0</td>\n",
       "      <td>0</td>\n",
       "      <td>0</td>\n",
       "      <td>0</td>\n",
       "      <td>0</td>\n",
       "      <td>0</td>\n",
       "      <td>0</td>\n",
       "      <td>2250.000000</td>\n",
       "      <td>0.500000</td>\n",
       "    </tr>\n",
       "  </tbody>\n",
       "</table>\n",
       "</div>"
      ],
      "text/plain": [
       "     price  area  bedrooms  bathrooms  stories  mainroad  guestroom  basement  \\\n",
       "0  5250000  5500         3          2        1         1          0         1   \n",
       "1  4480000  4040         3          1        2         1          0         0   \n",
       "2  3570000  3640         2          1        1         1          0         0   \n",
       "3  2870000  3040         2          1        1         0          0         0   \n",
       "4  3570000  4500         2          1        1         0          0         0   \n",
       "\n",
       "   hotwaterheating  airconditioning  parking  prefarea  semi-furnished  \\\n",
       "0                0                0        0         0               1   \n",
       "1                0                0        1         0               1   \n",
       "2                0                0        0         0               0   \n",
       "3                0                0        0         0               0   \n",
       "4                0                0        0         0               0   \n",
       "\n",
       "   unfurnished  areaperbedroom   bbratio  \n",
       "0            0     1833.333333  0.666667  \n",
       "1            0     1346.666667  0.333333  \n",
       "2            1     1820.000000  0.500000  \n",
       "3            1     1520.000000  0.500000  \n",
       "4            0     2250.000000  0.500000  "
      ]
     },
     "execution_count": 3,
     "metadata": {},
     "output_type": "execute_result"
    }
   ],
   "source": [
    "housing.head()"
   ]
  },
  {
   "cell_type": "code",
   "execution_count": 4,
   "metadata": {},
   "outputs": [
    {
     "data": {
      "text/html": [
       "<div>\n",
       "<style scoped>\n",
       "    .dataframe tbody tr th:only-of-type {\n",
       "        vertical-align: middle;\n",
       "    }\n",
       "\n",
       "    .dataframe tbody tr th {\n",
       "        vertical-align: top;\n",
       "    }\n",
       "\n",
       "    .dataframe thead th {\n",
       "        text-align: right;\n",
       "    }\n",
       "</style>\n",
       "<table border=\"1\" class=\"dataframe\">\n",
       "  <thead>\n",
       "    <tr style=\"text-align: right;\">\n",
       "      <th></th>\n",
       "      <th>price</th>\n",
       "      <th>area</th>\n",
       "      <th>bedrooms</th>\n",
       "      <th>bathrooms</th>\n",
       "      <th>stories</th>\n",
       "      <th>mainroad</th>\n",
       "      <th>guestroom</th>\n",
       "      <th>basement</th>\n",
       "      <th>hotwaterheating</th>\n",
       "      <th>airconditioning</th>\n",
       "      <th>parking</th>\n",
       "      <th>prefarea</th>\n",
       "      <th>semi-furnished</th>\n",
       "      <th>unfurnished</th>\n",
       "      <th>areaperbedroom</th>\n",
       "      <th>bbratio</th>\n",
       "    </tr>\n",
       "  </thead>\n",
       "  <tbody>\n",
       "    <tr>\n",
       "      <th>price</th>\n",
       "      <td>1.000000</td>\n",
       "      <td>0.535997</td>\n",
       "      <td>0.366494</td>\n",
       "      <td>0.517545</td>\n",
       "      <td>0.420712</td>\n",
       "      <td>0.296898</td>\n",
       "      <td>0.255517</td>\n",
       "      <td>0.187057</td>\n",
       "      <td>0.093073</td>\n",
       "      <td>0.452954</td>\n",
       "      <td>0.384394</td>\n",
       "      <td>0.329777</td>\n",
       "      <td>0.063656</td>\n",
       "      <td>-0.280587</td>\n",
       "      <td>0.244809</td>\n",
       "      <td>0.231732</td>\n",
       "    </tr>\n",
       "    <tr>\n",
       "      <th>area</th>\n",
       "      <td>0.535997</td>\n",
       "      <td>1.000000</td>\n",
       "      <td>0.151858</td>\n",
       "      <td>0.193820</td>\n",
       "      <td>0.083996</td>\n",
       "      <td>0.288874</td>\n",
       "      <td>0.140297</td>\n",
       "      <td>0.047417</td>\n",
       "      <td>-0.009229</td>\n",
       "      <td>0.222393</td>\n",
       "      <td>0.352980</td>\n",
       "      <td>0.234779</td>\n",
       "      <td>0.006156</td>\n",
       "      <td>-0.142278</td>\n",
       "      <td>0.805610</td>\n",
       "      <td>0.057116</td>\n",
       "    </tr>\n",
       "    <tr>\n",
       "      <th>bedrooms</th>\n",
       "      <td>0.366494</td>\n",
       "      <td>0.151858</td>\n",
       "      <td>1.000000</td>\n",
       "      <td>0.373930</td>\n",
       "      <td>0.408564</td>\n",
       "      <td>-0.012033</td>\n",
       "      <td>0.080549</td>\n",
       "      <td>0.097312</td>\n",
       "      <td>0.046049</td>\n",
       "      <td>0.160603</td>\n",
       "      <td>0.139270</td>\n",
       "      <td>0.079023</td>\n",
       "      <td>0.050040</td>\n",
       "      <td>-0.126252</td>\n",
       "      <td>-0.397259</td>\n",
       "      <td>-0.317303</td>\n",
       "    </tr>\n",
       "    <tr>\n",
       "      <th>bathrooms</th>\n",
       "      <td>0.517545</td>\n",
       "      <td>0.193820</td>\n",
       "      <td>0.373930</td>\n",
       "      <td>1.000000</td>\n",
       "      <td>0.326165</td>\n",
       "      <td>0.042398</td>\n",
       "      <td>0.126469</td>\n",
       "      <td>0.102106</td>\n",
       "      <td>0.067159</td>\n",
       "      <td>0.186915</td>\n",
       "      <td>0.177496</td>\n",
       "      <td>0.063472</td>\n",
       "      <td>0.029834</td>\n",
       "      <td>-0.132107</td>\n",
       "      <td>-0.052352</td>\n",
       "      <td>0.727154</td>\n",
       "    </tr>\n",
       "    <tr>\n",
       "      <th>stories</th>\n",
       "      <td>0.420712</td>\n",
       "      <td>0.083996</td>\n",
       "      <td>0.408564</td>\n",
       "      <td>0.326165</td>\n",
       "      <td>1.000000</td>\n",
       "      <td>0.121706</td>\n",
       "      <td>0.043538</td>\n",
       "      <td>-0.172394</td>\n",
       "      <td>0.018847</td>\n",
       "      <td>0.293602</td>\n",
       "      <td>0.045547</td>\n",
       "      <td>0.044425</td>\n",
       "      <td>-0.003648</td>\n",
       "      <td>-0.082972</td>\n",
       "      <td>-0.178942</td>\n",
       "      <td>0.032962</td>\n",
       "    </tr>\n",
       "    <tr>\n",
       "      <th>mainroad</th>\n",
       "      <td>0.296898</td>\n",
       "      <td>0.288874</td>\n",
       "      <td>-0.012033</td>\n",
       "      <td>0.042398</td>\n",
       "      <td>0.121706</td>\n",
       "      <td>1.000000</td>\n",
       "      <td>0.092337</td>\n",
       "      <td>0.044002</td>\n",
       "      <td>-0.011781</td>\n",
       "      <td>0.105423</td>\n",
       "      <td>0.204433</td>\n",
       "      <td>0.199876</td>\n",
       "      <td>0.011450</td>\n",
       "      <td>-0.133123</td>\n",
       "      <td>0.249829</td>\n",
       "      <td>0.030407</td>\n",
       "    </tr>\n",
       "    <tr>\n",
       "      <th>guestroom</th>\n",
       "      <td>0.255517</td>\n",
       "      <td>0.140297</td>\n",
       "      <td>0.080549</td>\n",
       "      <td>0.126469</td>\n",
       "      <td>0.043538</td>\n",
       "      <td>0.092337</td>\n",
       "      <td>1.000000</td>\n",
       "      <td>0.372066</td>\n",
       "      <td>-0.010308</td>\n",
       "      <td>0.138179</td>\n",
       "      <td>0.037466</td>\n",
       "      <td>0.160897</td>\n",
       "      <td>0.005821</td>\n",
       "      <td>-0.099023</td>\n",
       "      <td>0.054312</td>\n",
       "      <td>0.075854</td>\n",
       "    </tr>\n",
       "    <tr>\n",
       "      <th>basement</th>\n",
       "      <td>0.187057</td>\n",
       "      <td>0.047417</td>\n",
       "      <td>0.097312</td>\n",
       "      <td>0.102106</td>\n",
       "      <td>-0.172394</td>\n",
       "      <td>0.044002</td>\n",
       "      <td>0.372066</td>\n",
       "      <td>1.000000</td>\n",
       "      <td>0.004385</td>\n",
       "      <td>0.047341</td>\n",
       "      <td>0.051497</td>\n",
       "      <td>0.228083</td>\n",
       "      <td>0.050284</td>\n",
       "      <td>-0.117935</td>\n",
       "      <td>-0.017034</td>\n",
       "      <td>0.047346</td>\n",
       "    </tr>\n",
       "    <tr>\n",
       "      <th>hotwaterheating</th>\n",
       "      <td>0.093073</td>\n",
       "      <td>-0.009229</td>\n",
       "      <td>0.046049</td>\n",
       "      <td>0.067159</td>\n",
       "      <td>0.018847</td>\n",
       "      <td>-0.011781</td>\n",
       "      <td>-0.010308</td>\n",
       "      <td>0.004385</td>\n",
       "      <td>1.000000</td>\n",
       "      <td>-0.130023</td>\n",
       "      <td>0.067864</td>\n",
       "      <td>-0.059411</td>\n",
       "      <td>0.063819</td>\n",
       "      <td>-0.059194</td>\n",
       "      <td>-0.021634</td>\n",
       "      <td>0.021520</td>\n",
       "    </tr>\n",
       "    <tr>\n",
       "      <th>airconditioning</th>\n",
       "      <td>0.452954</td>\n",
       "      <td>0.222393</td>\n",
       "      <td>0.160603</td>\n",
       "      <td>0.186915</td>\n",
       "      <td>0.293602</td>\n",
       "      <td>0.105423</td>\n",
       "      <td>0.138179</td>\n",
       "      <td>0.047341</td>\n",
       "      <td>-0.130023</td>\n",
       "      <td>1.000000</td>\n",
       "      <td>0.159173</td>\n",
       "      <td>0.117382</td>\n",
       "      <td>-0.053179</td>\n",
       "      <td>-0.094086</td>\n",
       "      <td>0.096830</td>\n",
       "      <td>0.064649</td>\n",
       "    </tr>\n",
       "    <tr>\n",
       "      <th>parking</th>\n",
       "      <td>0.384394</td>\n",
       "      <td>0.352980</td>\n",
       "      <td>0.139270</td>\n",
       "      <td>0.177496</td>\n",
       "      <td>0.045547</td>\n",
       "      <td>0.204433</td>\n",
       "      <td>0.037466</td>\n",
       "      <td>0.051497</td>\n",
       "      <td>0.067864</td>\n",
       "      <td>0.159173</td>\n",
       "      <td>1.000000</td>\n",
       "      <td>0.091627</td>\n",
       "      <td>0.041327</td>\n",
       "      <td>-0.165705</td>\n",
       "      <td>0.224387</td>\n",
       "      <td>0.064107</td>\n",
       "    </tr>\n",
       "    <tr>\n",
       "      <th>prefarea</th>\n",
       "      <td>0.329777</td>\n",
       "      <td>0.234779</td>\n",
       "      <td>0.079023</td>\n",
       "      <td>0.063472</td>\n",
       "      <td>0.044425</td>\n",
       "      <td>0.199876</td>\n",
       "      <td>0.160897</td>\n",
       "      <td>0.228083</td>\n",
       "      <td>-0.059411</td>\n",
       "      <td>0.117382</td>\n",
       "      <td>0.091627</td>\n",
       "      <td>1.000000</td>\n",
       "      <td>-0.011535</td>\n",
       "      <td>-0.081271</td>\n",
       "      <td>0.141576</td>\n",
       "      <td>-0.018585</td>\n",
       "    </tr>\n",
       "    <tr>\n",
       "      <th>semi-furnished</th>\n",
       "      <td>0.063656</td>\n",
       "      <td>0.006156</td>\n",
       "      <td>0.050040</td>\n",
       "      <td>0.029834</td>\n",
       "      <td>-0.003648</td>\n",
       "      <td>0.011450</td>\n",
       "      <td>0.005821</td>\n",
       "      <td>0.050284</td>\n",
       "      <td>0.063819</td>\n",
       "      <td>-0.053179</td>\n",
       "      <td>0.041327</td>\n",
       "      <td>-0.011535</td>\n",
       "      <td>1.000000</td>\n",
       "      <td>-0.588405</td>\n",
       "      <td>-0.028909</td>\n",
       "      <td>-0.013016</td>\n",
       "    </tr>\n",
       "    <tr>\n",
       "      <th>unfurnished</th>\n",
       "      <td>-0.280587</td>\n",
       "      <td>-0.142278</td>\n",
       "      <td>-0.126252</td>\n",
       "      <td>-0.132107</td>\n",
       "      <td>-0.082972</td>\n",
       "      <td>-0.133123</td>\n",
       "      <td>-0.099023</td>\n",
       "      <td>-0.117935</td>\n",
       "      <td>-0.059194</td>\n",
       "      <td>-0.094086</td>\n",
       "      <td>-0.165705</td>\n",
       "      <td>-0.081271</td>\n",
       "      <td>-0.588405</td>\n",
       "      <td>1.000000</td>\n",
       "      <td>-0.062323</td>\n",
       "      <td>-0.041387</td>\n",
       "    </tr>\n",
       "    <tr>\n",
       "      <th>areaperbedroom</th>\n",
       "      <td>0.244809</td>\n",
       "      <td>0.805610</td>\n",
       "      <td>-0.397259</td>\n",
       "      <td>-0.052352</td>\n",
       "      <td>-0.178942</td>\n",
       "      <td>0.249829</td>\n",
       "      <td>0.054312</td>\n",
       "      <td>-0.017034</td>\n",
       "      <td>-0.021634</td>\n",
       "      <td>0.096830</td>\n",
       "      <td>0.224387</td>\n",
       "      <td>0.141576</td>\n",
       "      <td>-0.028909</td>\n",
       "      <td>-0.062323</td>\n",
       "      <td>1.000000</td>\n",
       "      <td>0.225242</td>\n",
       "    </tr>\n",
       "    <tr>\n",
       "      <th>bbratio</th>\n",
       "      <td>0.231732</td>\n",
       "      <td>0.057116</td>\n",
       "      <td>-0.317303</td>\n",
       "      <td>0.727154</td>\n",
       "      <td>0.032962</td>\n",
       "      <td>0.030407</td>\n",
       "      <td>0.075854</td>\n",
       "      <td>0.047346</td>\n",
       "      <td>0.021520</td>\n",
       "      <td>0.064649</td>\n",
       "      <td>0.064107</td>\n",
       "      <td>-0.018585</td>\n",
       "      <td>-0.013016</td>\n",
       "      <td>-0.041387</td>\n",
       "      <td>0.225242</td>\n",
       "      <td>1.000000</td>\n",
       "    </tr>\n",
       "  </tbody>\n",
       "</table>\n",
       "</div>"
      ],
      "text/plain": [
       "                    price      area  bedrooms  bathrooms   stories  mainroad  \\\n",
       "price            1.000000  0.535997  0.366494   0.517545  0.420712  0.296898   \n",
       "area             0.535997  1.000000  0.151858   0.193820  0.083996  0.288874   \n",
       "bedrooms         0.366494  0.151858  1.000000   0.373930  0.408564 -0.012033   \n",
       "bathrooms        0.517545  0.193820  0.373930   1.000000  0.326165  0.042398   \n",
       "stories          0.420712  0.083996  0.408564   0.326165  1.000000  0.121706   \n",
       "mainroad         0.296898  0.288874 -0.012033   0.042398  0.121706  1.000000   \n",
       "guestroom        0.255517  0.140297  0.080549   0.126469  0.043538  0.092337   \n",
       "basement         0.187057  0.047417  0.097312   0.102106 -0.172394  0.044002   \n",
       "hotwaterheating  0.093073 -0.009229  0.046049   0.067159  0.018847 -0.011781   \n",
       "airconditioning  0.452954  0.222393  0.160603   0.186915  0.293602  0.105423   \n",
       "parking          0.384394  0.352980  0.139270   0.177496  0.045547  0.204433   \n",
       "prefarea         0.329777  0.234779  0.079023   0.063472  0.044425  0.199876   \n",
       "semi-furnished   0.063656  0.006156  0.050040   0.029834 -0.003648  0.011450   \n",
       "unfurnished     -0.280587 -0.142278 -0.126252  -0.132107 -0.082972 -0.133123   \n",
       "areaperbedroom   0.244809  0.805610 -0.397259  -0.052352 -0.178942  0.249829   \n",
       "bbratio          0.231732  0.057116 -0.317303   0.727154  0.032962  0.030407   \n",
       "\n",
       "                 guestroom  basement  hotwaterheating  airconditioning  \\\n",
       "price             0.255517  0.187057         0.093073         0.452954   \n",
       "area              0.140297  0.047417        -0.009229         0.222393   \n",
       "bedrooms          0.080549  0.097312         0.046049         0.160603   \n",
       "bathrooms         0.126469  0.102106         0.067159         0.186915   \n",
       "stories           0.043538 -0.172394         0.018847         0.293602   \n",
       "mainroad          0.092337  0.044002        -0.011781         0.105423   \n",
       "guestroom         1.000000  0.372066        -0.010308         0.138179   \n",
       "basement          0.372066  1.000000         0.004385         0.047341   \n",
       "hotwaterheating  -0.010308  0.004385         1.000000        -0.130023   \n",
       "airconditioning   0.138179  0.047341        -0.130023         1.000000   \n",
       "parking           0.037466  0.051497         0.067864         0.159173   \n",
       "prefarea          0.160897  0.228083        -0.059411         0.117382   \n",
       "semi-furnished    0.005821  0.050284         0.063819        -0.053179   \n",
       "unfurnished      -0.099023 -0.117935        -0.059194        -0.094086   \n",
       "areaperbedroom    0.054312 -0.017034        -0.021634         0.096830   \n",
       "bbratio           0.075854  0.047346         0.021520         0.064649   \n",
       "\n",
       "                  parking  prefarea  semi-furnished  unfurnished  \\\n",
       "price            0.384394  0.329777        0.063656    -0.280587   \n",
       "area             0.352980  0.234779        0.006156    -0.142278   \n",
       "bedrooms         0.139270  0.079023        0.050040    -0.126252   \n",
       "bathrooms        0.177496  0.063472        0.029834    -0.132107   \n",
       "stories          0.045547  0.044425       -0.003648    -0.082972   \n",
       "mainroad         0.204433  0.199876        0.011450    -0.133123   \n",
       "guestroom        0.037466  0.160897        0.005821    -0.099023   \n",
       "basement         0.051497  0.228083        0.050284    -0.117935   \n",
       "hotwaterheating  0.067864 -0.059411        0.063819    -0.059194   \n",
       "airconditioning  0.159173  0.117382       -0.053179    -0.094086   \n",
       "parking          1.000000  0.091627        0.041327    -0.165705   \n",
       "prefarea         0.091627  1.000000       -0.011535    -0.081271   \n",
       "semi-furnished   0.041327 -0.011535        1.000000    -0.588405   \n",
       "unfurnished     -0.165705 -0.081271       -0.588405     1.000000   \n",
       "areaperbedroom   0.224387  0.141576       -0.028909    -0.062323   \n",
       "bbratio          0.064107 -0.018585       -0.013016    -0.041387   \n",
       "\n",
       "                 areaperbedroom   bbratio  \n",
       "price                  0.244809  0.231732  \n",
       "area                   0.805610  0.057116  \n",
       "bedrooms              -0.397259 -0.317303  \n",
       "bathrooms             -0.052352  0.727154  \n",
       "stories               -0.178942  0.032962  \n",
       "mainroad               0.249829  0.030407  \n",
       "guestroom              0.054312  0.075854  \n",
       "basement              -0.017034  0.047346  \n",
       "hotwaterheating       -0.021634  0.021520  \n",
       "airconditioning        0.096830  0.064649  \n",
       "parking                0.224387  0.064107  \n",
       "prefarea               0.141576 -0.018585  \n",
       "semi-furnished        -0.028909 -0.013016  \n",
       "unfurnished           -0.062323 -0.041387  \n",
       "areaperbedroom         1.000000  0.225242  \n",
       "bbratio                0.225242  1.000000  "
      ]
     },
     "execution_count": 4,
     "metadata": {},
     "output_type": "execute_result"
    }
   ],
   "source": [
    "housing.corr()"
   ]
  },
  {
   "cell_type": "code",
   "execution_count": 5,
   "metadata": {},
   "outputs": [
    {
     "data": {
      "text/plain": [
       "<matplotlib.axes._subplots.AxesSubplot at 0x9747970>"
      ]
     },
     "execution_count": 5,
     "metadata": {},
     "output_type": "execute_result"
    },
    {
     "data": {
      "image/png": "[encoded data removed]",
      "text/plain": [
       "<matplotlib.figure.Figure at 0x97479b0>"
      ]
     },
     "metadata": {},
     "output_type": "display_data"
    }
   ],
   "source": [
    "# Let's see the correlation matrix \n",
    "plt.figure(figsize = (20,10))        # Size of the figure\n",
    "sns.heatmap(housing.corr(),annot = True)"
   ]
  },
  {
   "cell_type": "code",
   "execution_count": 6,
   "metadata": {},
   "outputs": [
    {
     "data": {
      "text/html": [
       "<div>\n",
       "<style scoped>\n",
       "    .dataframe tbody tr th:only-of-type {\n",
       "        vertical-align: middle;\n",
       "    }\n",
       "\n",
       "    .dataframe tbody tr th {\n",
       "        vertical-align: top;\n",
       "    }\n",
       "\n",
       "    .dataframe thead th {\n",
       "        text-align: right;\n",
       "    }\n",
       "</style>\n",
       "<table border=\"1\" class=\"dataframe\">\n",
       "  <thead>\n",
       "    <tr style=\"text-align: right;\">\n",
       "      <th></th>\n",
       "      <th>price</th>\n",
       "      <th>area</th>\n",
       "      <th>bedrooms</th>\n",
       "      <th>bathrooms</th>\n",
       "      <th>stories</th>\n",
       "      <th>mainroad</th>\n",
       "      <th>guestroom</th>\n",
       "      <th>basement</th>\n",
       "      <th>hotwaterheating</th>\n",
       "      <th>airconditioning</th>\n",
       "      <th>parking</th>\n",
       "      <th>prefarea</th>\n",
       "      <th>semi-furnished</th>\n",
       "      <th>unfurnished</th>\n",
       "      <th>areaperbedroom</th>\n",
       "      <th>bbratio</th>\n",
       "    </tr>\n",
       "  </thead>\n",
       "  <tbody>\n",
       "    <tr>\n",
       "      <th>count</th>\n",
       "      <td>5.450000e+02</td>\n",
       "      <td>545.000000</td>\n",
       "      <td>545.000000</td>\n",
       "      <td>545.000000</td>\n",
       "      <td>545.000000</td>\n",
       "      <td>545.000000</td>\n",
       "      <td>545.000000</td>\n",
       "      <td>545.000000</td>\n",
       "      <td>545.000000</td>\n",
       "      <td>545.000000</td>\n",
       "      <td>545.000000</td>\n",
       "      <td>545.000000</td>\n",
       "      <td>545.000000</td>\n",
       "      <td>545.000000</td>\n",
       "      <td>545.000000</td>\n",
       "      <td>545.000000</td>\n",
       "    </tr>\n",
       "    <tr>\n",
       "      <th>mean</th>\n",
       "      <td>4.766729e+06</td>\n",
       "      <td>5150.541284</td>\n",
       "      <td>2.965138</td>\n",
       "      <td>1.286239</td>\n",
       "      <td>1.805505</td>\n",
       "      <td>0.858716</td>\n",
       "      <td>0.177982</td>\n",
       "      <td>0.350459</td>\n",
       "      <td>0.045872</td>\n",
       "      <td>0.315596</td>\n",
       "      <td>0.693578</td>\n",
       "      <td>0.234862</td>\n",
       "      <td>0.416514</td>\n",
       "      <td>0.326606</td>\n",
       "      <td>1819.852599</td>\n",
       "      <td>0.446361</td>\n",
       "    </tr>\n",
       "    <tr>\n",
       "      <th>std</th>\n",
       "      <td>1.870440e+06</td>\n",
       "      <td>2170.141023</td>\n",
       "      <td>0.738064</td>\n",
       "      <td>0.502470</td>\n",
       "      <td>0.867492</td>\n",
       "      <td>0.348635</td>\n",
       "      <td>0.382849</td>\n",
       "      <td>0.477552</td>\n",
       "      <td>0.209399</td>\n",
       "      <td>0.465180</td>\n",
       "      <td>0.861586</td>\n",
       "      <td>0.424302</td>\n",
       "      <td>0.493434</td>\n",
       "      <td>0.469402</td>\n",
       "      <td>839.091825</td>\n",
       "      <td>0.159492</td>\n",
       "    </tr>\n",
       "    <tr>\n",
       "      <th>min</th>\n",
       "      <td>1.750000e+06</td>\n",
       "      <td>1650.000000</td>\n",
       "      <td>1.000000</td>\n",
       "      <td>1.000000</td>\n",
       "      <td>1.000000</td>\n",
       "      <td>0.000000</td>\n",
       "      <td>0.000000</td>\n",
       "      <td>0.000000</td>\n",
       "      <td>0.000000</td>\n",
       "      <td>0.000000</td>\n",
       "      <td>0.000000</td>\n",
       "      <td>0.000000</td>\n",
       "      <td>0.000000</td>\n",
       "      <td>0.000000</td>\n",
       "      <td>381.000000</td>\n",
       "      <td>0.166667</td>\n",
       "    </tr>\n",
       "    <tr>\n",
       "      <th>25%</th>\n",
       "      <td>3.430000e+06</td>\n",
       "      <td>3600.000000</td>\n",
       "      <td>2.000000</td>\n",
       "      <td>1.000000</td>\n",
       "      <td>1.000000</td>\n",
       "      <td>1.000000</td>\n",
       "      <td>0.000000</td>\n",
       "      <td>0.000000</td>\n",
       "      <td>0.000000</td>\n",
       "      <td>0.000000</td>\n",
       "      <td>0.000000</td>\n",
       "      <td>0.000000</td>\n",
       "      <td>0.000000</td>\n",
       "      <td>0.000000</td>\n",
       "      <td>1237.500000</td>\n",
       "      <td>0.333333</td>\n",
       "    </tr>\n",
       "    <tr>\n",
       "      <th>50%</th>\n",
       "      <td>4.340000e+06</td>\n",
       "      <td>4600.000000</td>\n",
       "      <td>3.000000</td>\n",
       "      <td>1.000000</td>\n",
       "      <td>2.000000</td>\n",
       "      <td>1.000000</td>\n",
       "      <td>0.000000</td>\n",
       "      <td>0.000000</td>\n",
       "      <td>0.000000</td>\n",
       "      <td>0.000000</td>\n",
       "      <td>0.000000</td>\n",
       "      <td>0.000000</td>\n",
       "      <td>0.000000</td>\n",
       "      <td>0.000000</td>\n",
       "      <td>1666.666667</td>\n",
       "      <td>0.400000</td>\n",
       "    </tr>\n",
       "    <tr>\n",
       "      <th>75%</th>\n",
       "      <td>5.740000e+06</td>\n",
       "      <td>6360.000000</td>\n",
       "      <td>3.000000</td>\n",
       "      <td>2.000000</td>\n",
       "      <td>2.000000</td>\n",
       "      <td>1.000000</td>\n",
       "      <td>0.000000</td>\n",
       "      <td>1.000000</td>\n",
       "      <td>0.000000</td>\n",
       "      <td>1.000000</td>\n",
       "      <td>1.000000</td>\n",
       "      <td>0.000000</td>\n",
       "      <td>1.000000</td>\n",
       "      <td>1.000000</td>\n",
       "      <td>2183.333333</td>\n",
       "      <td>0.500000</td>\n",
       "    </tr>\n",
       "    <tr>\n",
       "      <th>max</th>\n",
       "      <td>1.330000e+07</td>\n",
       "      <td>16200.000000</td>\n",
       "      <td>6.000000</td>\n",
       "      <td>4.000000</td>\n",
       "      <td>4.000000</td>\n",
       "      <td>1.000000</td>\n",
       "      <td>1.000000</td>\n",
       "      <td>1.000000</td>\n",
       "      <td>1.000000</td>\n",
       "      <td>1.000000</td>\n",
       "      <td>3.000000</td>\n",
       "      <td>1.000000</td>\n",
       "      <td>1.000000</td>\n",
       "      <td>1.000000</td>\n",
       "      <td>6600.000000</td>\n",
       "      <td>1.000000</td>\n",
       "    </tr>\n",
       "  </tbody>\n",
       "</table>\n",
       "</div>"
      ],
      "text/plain": [
       "              price          area    bedrooms   bathrooms     stories  \\\n",
       "count  5.450000e+02    545.000000  545.000000  545.000000  545.000000   \n",
       "mean   4.766729e+06   5150.541284    2.965138    1.286239    1.805505   \n",
       "std    1.870440e+06   2170.141023    0.738064    0.502470    0.867492   \n",
       "min    1.750000e+06   1650.000000    1.000000    1.000000    1.000000   \n",
       "25%    3.430000e+06   3600.000000    2.000000    1.000000    1.000000   \n",
       "50%    4.340000e+06   4600.000000    3.000000    1.000000    2.000000   \n",
       "75%    5.740000e+06   6360.000000    3.000000    2.000000    2.000000   \n",
       "max    1.330000e+07  16200.000000    6.000000    4.000000    4.000000   \n",
       "\n",
       "         mainroad   guestroom    basement  hotwaterheating  airconditioning  \\\n",
       "count  545.000000  545.000000  545.000000       545.000000       545.000000   \n",
       "mean     0.858716    0.177982    0.350459         0.045872         0.315596   \n",
       "std      0.348635    0.382849    0.477552         0.209399         0.465180   \n",
       "min      0.000000    0.000000    0.000000         0.000000         0.000000   \n",
       "25%      1.000000    0.000000    0.000000         0.000000         0.000000   \n",
       "50%      1.000000    0.000000    0.000000         0.000000         0.000000   \n",
       "75%      1.000000    0.000000    1.000000         0.000000         1.000000   \n",
       "max      1.000000    1.000000    1.000000         1.000000         1.000000   \n",
       "\n",
       "          parking    prefarea  semi-furnished  unfurnished  areaperbedroom  \\\n",
       "count  545.000000  545.000000      545.000000   545.000000      545.000000   \n",
       "mean     0.693578    0.234862        0.416514     0.326606     1819.852599   \n",
       "std      0.861586    0.424302        0.493434     0.469402      839.091825   \n",
       "min      0.000000    0.000000        0.000000     0.000000      381.000000   \n",
       "25%      0.000000    0.000000        0.000000     0.000000     1237.500000   \n",
       "50%      0.000000    0.000000        0.000000     0.000000     1666.666667   \n",
       "75%      1.000000    0.000000        1.000000     1.000000     2183.333333   \n",
       "max      3.000000    1.000000        1.000000     1.000000     6600.000000   \n",
       "\n",
       "          bbratio  \n",
       "count  545.000000  \n",
       "mean     0.446361  \n",
       "std      0.159492  \n",
       "min      0.166667  \n",
       "25%      0.333333  \n",
       "50%      0.400000  \n",
       "75%      0.500000  \n",
       "max      1.000000  "
      ]
     },
     "execution_count": 6,
     "metadata": {},
     "output_type": "execute_result"
    }
   ],
   "source": [
    "housing.describe()"
   ]
  },
  {
   "cell_type": "code",
   "execution_count": 7,
   "metadata": {},
   "outputs": [
    {
     "name": "stdout",
     "output_type": "stream",
     "text": [
      "<class 'pandas.core.frame.DataFrame'>\n",
      "RangeIndex: 545 entries, 0 to 544\n",
      "Data columns (total 16 columns):\n",
      "price              545 non-null int64\n",
      "area               545 non-null int64\n",
      "bedrooms           545 non-null int64\n",
      "bathrooms          545 non-null int64\n",
      "stories            545 non-null int64\n",
      "mainroad           545 non-null int64\n",
      "guestroom          545 non-null int64\n",
      "basement           545 non-null int64\n",
      "hotwaterheating    545 non-null int64\n",
      "airconditioning    545 non-null int64\n",
      "parking            545 non-null int64\n",
      "prefarea           545 non-null int64\n",
      "semi-furnished     545 non-null int64\n",
      "unfurnished        545 non-null int64\n",
      "areaperbedroom     545 non-null float64\n",
      "bbratio            545 non-null float64\n",
      "dtypes: float64(2), int64(14)\n",
      "memory usage: 68.2 KB\n"
     ]
    }
   ],
   "source": [
    "housing.info()"
   ]
  },
  {
   "cell_type": "code",
   "execution_count": 8,
   "metadata": {},
   "outputs": [],
   "source": [
    "from sklearn.model_selection import train_test_split\n",
    "from sklearn import preprocessing"
   ]
  },
  {
   "cell_type": "code",
   "execution_count": 9,
   "metadata": {},
   "outputs": [],
   "source": [
    "X = housing.drop('price',axis=1)\n",
    "y = housing['price']"
   ]
  },
  {
   "cell_type": "code",
   "execution_count": 10,
   "metadata": {},
   "outputs": [],
   "source": [
    "X_train, X_test, y_train, y_test = train_test_split(X,y,train_size=0.7,test_size=0.3,random_state = 100)"
   ]
  },
  {
   "cell_type": "code",
   "execution_count": 11,
   "metadata": {},
   "outputs": [
    {
     "name": "stderr",
     "output_type": "stream",
     "text": [
      "C:\\Users\\Vignesh\\Anaconda3\\lib\\site-packages\\ipykernel_launcher.py:5: FutureWarning: reshape is deprecated and will raise in a subsequent release. Please use .values.reshape(...) instead\n",
      "  \"\"\"\n",
      "C:\\Users\\Vignesh\\Anaconda3\\lib\\site-packages\\sklearn\\utils\\validation.py:475: DataConversionWarning: Data with input dtype int64 was converted to float64 by StandardScaler.\n",
      "  warnings.warn(msg, DataConversionWarning)\n",
      "C:\\Users\\Vignesh\\Anaconda3\\lib\\site-packages\\ipykernel_launcher.py:6: FutureWarning: reshape is deprecated and will raise in a subsequent release. Please use .values.reshape(...) instead\n",
      "  \n",
      "C:\\Users\\Vignesh\\Anaconda3\\lib\\site-packages\\ipykernel_launcher.py:7: FutureWarning: reshape is deprecated and will raise in a subsequent release. Please use .values.reshape(...) instead\n",
      "  import sys\n",
      "C:\\Users\\Vignesh\\Anaconda3\\lib\\site-packages\\ipykernel_launcher.py:8: FutureWarning: reshape is deprecated and will raise in a subsequent release. Please use .values.reshape(...) instead\n",
      "  \n"
     ]
    }
   ],
   "source": [
    "X_scaler = preprocessing.StandardScaler().fit(X_train)\n",
    "X_train = pd.DataFrame(X_scaler.transform(X_train) , index=X_train.index, columns= X_train.columns)\n",
    "X_scaler = preprocessing.StandardScaler().fit(X_test)\n",
    "X_test = pd.DataFrame(X_scaler.transform(X_test) , index=X_test.index, columns= X_test.columns)\n",
    "y_scaler = preprocessing.StandardScaler().fit(y_train.reshape(-1, 1))\n",
    "y_train = y_scaler.transform(y_train.reshape(-1, 1))\n",
    "y_scaler = preprocessing.StandardScaler().fit(y_test.reshape(-1, 1))\n",
    "y_test = y_scaler.transform(y_test.reshape(-1, 1)) "
   ]
  },
  {
   "cell_type": "code",
   "execution_count": 12,
   "metadata": {},
   "outputs": [
    {
     "data": {
      "text/plain": [
       "4.98610656210858"
      ]
     },
     "execution_count": 12,
     "metadata": {},
     "output_type": "execute_result"
    }
   ],
   "source": [
    "max(X_train['area'])"
   ]
  },
  {
   "cell_type": "markdown",
   "metadata": {},
   "source": [
    "### Linear model"
   ]
  },
  {
   "cell_type": "code",
   "execution_count": 13,
   "metadata": {},
   "outputs": [],
   "source": [
    "from sklearn import linear_model"
   ]
  },
  {
   "cell_type": "code",
   "execution_count": 14,
   "metadata": {},
   "outputs": [],
   "source": [
    "lr = linear_model.LinearRegression()"
   ]
  },
  {
   "cell_type": "code",
   "execution_count": 15,
   "metadata": {},
   "outputs": [
    {
     "data": {
      "text/plain": [
       "LinearRegression(copy_X=True, fit_intercept=True, n_jobs=1, normalize=False)"
      ]
     },
     "execution_count": 15,
     "metadata": {},
     "output_type": "execute_result"
    }
   ],
   "source": [
    "lr.fit(X_train,y_train)"
   ]
  },
  {
   "cell_type": "code",
   "execution_count": 16,
   "metadata": {},
   "outputs": [],
   "source": [
    "y_pred = lr.predict(X_test)"
   ]
  },
  {
   "cell_type": "code",
   "execution_count": 17,
   "metadata": {},
   "outputs": [],
   "source": [
    "from sklearn import metrics"
   ]
  },
  {
   "cell_type": "code",
   "execution_count": 18,
   "metadata": {},
   "outputs": [
    {
     "data": {
      "text/plain": [
       "0.34226496913485543"
      ]
     },
     "execution_count": 18,
     "metadata": {},
     "output_type": "execute_result"
    }
   ],
   "source": [
    "metrics.mean_squared_error(y_test,y_pred)"
   ]
  },
  {
   "cell_type": "code",
   "execution_count": 19,
   "metadata": {
    "collapsed": true
   },
   "outputs": [
    {
     "data": {
      "text/plain": [
       "Text(0,0.5,'Predicted Y')"
      ]
     },
     "execution_count": 19,
     "metadata": {},
     "output_type": "execute_result"
    },
    {
     "data": {
      "image/png": "[encoded data removed]",
      "text/plain": [
       "<matplotlib.figure.Figure at 0xb16a6b0>"
      ]
     },
     "metadata": {},
     "output_type": "display_data"
    }
   ],
   "source": [
    "plt.scatter(y_test,y_pred)\n",
    "plt.xlabel('Y Test')\n",
    "plt.ylabel('Predicted Y')"
   ]
  },
  {
   "cell_type": "code",
   "execution_count": 20,
   "metadata": {},
   "outputs": [],
   "source": [
    "from sklearn.decomposition import PCA"
   ]
  },
  {
   "cell_type": "code",
   "execution_count": 21,
   "metadata": {},
   "outputs": [],
   "source": [
    "pca = PCA(random_state=100)"
   ]
  },
  {
   "cell_type": "code",
   "execution_count": 22,
   "metadata": {},
   "outputs": [
    {
     "data": {
      "text/plain": [
       "PCA(copy=True, iterated_power='auto', n_components=None, random_state=100,\n",
       "  svd_solver='auto', tol=0.0, whiten=False)"
      ]
     },
     "execution_count": 22,
     "metadata": {},
     "output_type": "execute_result"
    }
   ],
   "source": [
    "pca.fit(X_train)"
   ]
  },
  {
   "cell_type": "code",
   "execution_count": 26,
   "metadata": {
    "collapsed": true
   },
   "outputs": [
    {
     "data": {
      "text/plain": [
       "array([[ 0.46691143,  0.13112306,  0.32062003,  0.18137141,  0.29897522,\n",
       "         0.2020986 ,  0.14932445,  0.00493309,  0.25729459,  0.33219883,\n",
       "         0.23612659,  0.11476112, -0.24709296,  0.34910288,  0.21942043],\n",
       "       [ 0.25361401, -0.50199435, -0.32207257, -0.39103649,  0.13295656,\n",
       "        -0.06013288, -0.04366134, -0.1227141 , -0.1130939 ,  0.04687925,\n",
       "         0.04003649, -0.22426404,  0.22807543,  0.5187315 ,  0.02822955],\n",
       "       [-0.08373087, -0.16054965,  0.49129155,  0.10515261, -0.07961017,\n",
       "        -0.09855502, -0.2582783 ,  0.07651385, -0.06254503,  0.02406853,\n",
       "        -0.28437482, -0.28436928,  0.26687278,  0.00714132,  0.62343997],\n",
       "       [-0.09898262, -0.27890913,  0.04843568, -0.27820056, -0.11260759,\n",
       "        -0.13636904,  0.0251793 ,  0.21412399, -0.2715405 ,  0.01344709,\n",
       "        -0.14781668,  0.56817619, -0.51530461,  0.07396185,  0.2555627 ],\n",
       "       [-0.19549875, -0.13507565,  0.12101414, -0.2726068 , -0.18120125,\n",
       "         0.51633502,  0.61952357, -0.06312322,  0.01439443, -0.18123479,\n",
       "         0.21092645, -0.14202644,  0.0464534 , -0.11329878,  0.2337454 ],\n",
       "       [ 0.070468  ,  0.20339523,  0.03528278, -0.136165  ,  0.15427708,\n",
       "         0.01696666,  0.11439298,  0.72940071, -0.46493104,  0.22760828,\n",
       "         0.12695952, -0.21227735,  0.13911017, -0.05211175, -0.11603598],\n",
       "       [-0.27391293, -0.3714118 , -0.14604531,  0.29597756,  0.50956246,\n",
       "         0.08419271, -0.15293646,  0.3279129 ,  0.20485549, -0.35920901,\n",
       "         0.29763799,  0.02249511, -0.05626016, -0.06673845,  0.11279969],\n",
       "       [ 0.06873018, -0.09560949, -0.18628189,  0.05934462, -0.16513782,\n",
       "         0.49486447, -0.06591472,  0.37877881,  0.36064176,  0.07109522,\n",
       "        -0.60077788,  0.02585686,  0.01293409,  0.11788882, -0.13095062],\n",
       "       [ 0.37325291,  0.13357918,  0.08509201,  0.20122142, -0.31743264,\n",
       "         0.17361657, -0.16489157,  0.08603021, -0.28903618, -0.66818328,\n",
       "         0.12870868,  0.08054739,  0.01903848,  0.27464484, -0.02747115],\n",
       "       [ 0.02680579, -0.0853034 , -0.01716945, -0.06663214, -0.55286271,\n",
       "        -0.3735235 ,  0.01119958,  0.35248042,  0.50026867,  0.06410015,\n",
       "         0.39398212, -0.03580493,  0.04976803,  0.06020975,  0.02723476],\n",
       "       [-0.14037589, -0.17824129, -0.10524866,  0.17278141, -0.29997682,\n",
       "         0.44473898, -0.45630523, -0.11862989, -0.24652672,  0.43433312,\n",
       "         0.37521266,  0.0397202 , -0.03158961, -0.06835344,  0.00863616],\n",
       "       [-0.0126148 , -0.26094269, -0.19078701,  0.67924337, -0.160644  ,\n",
       "        -0.19392325,  0.49756907, -0.01014474, -0.24106533,  0.16191096,\n",
       "        -0.11194153,  0.04030447,  0.09868547,  0.11999249,  0.01636735],\n",
       "       [-0.02231796, -0.02234808, -0.06477312,  0.0732443 , -0.09022348,\n",
       "        -0.0556592 , -0.02170733, -0.01687813, -0.04688892, -0.04822132,\n",
       "        -0.06474306, -0.67462298, -0.71491895,  0.03867204, -0.03180498],\n",
       "       [-0.48125423,  0.52241127, -0.33421138,  0.00898572, -0.00206618,\n",
       "         0.01380303, -0.0115305 ,  0.00880606,  0.00651385,  0.00949641,\n",
       "         0.02176698,  0.01805675,  0.02267882,  0.52208256,  0.33057611],\n",
       "       [ 0.43118799,  0.14881159, -0.55401623, -0.01272918, -0.00078509,\n",
       "        -0.00341075, -0.01079033,  0.00460803,  0.00521949, -0.00976269,\n",
       "        -0.00475707, -0.00484072, -0.01118978, -0.44432903,  0.5356902 ]])"
      ]
     },
     "execution_count": 26,
     "metadata": {},
     "output_type": "execute_result"
    }
   ],
   "source": [
    "pca.components_"
   ]
  },
  {
   "cell_type": "markdown",
   "metadata": {},
   "source": [
    "### For identifying principal components"
   ]
  },
  {
   "cell_type": "code",
   "execution_count": 30,
   "metadata": {
    "collapsed": true
   },
   "outputs": [
    {
     "data": {
      "text/html": [
       "<div>\n",
       "<style scoped>\n",
       "    .dataframe tbody tr th:only-of-type {\n",
       "        vertical-align: middle;\n",
       "    }\n",
       "\n",
       "    .dataframe tbody tr th {\n",
       "        vertical-align: top;\n",
       "    }\n",
       "\n",
       "    .dataframe thead th {\n",
       "        text-align: right;\n",
       "    }\n",
       "</style>\n",
       "<table border=\"1\" class=\"dataframe\">\n",
       "  <thead>\n",
       "    <tr style=\"text-align: right;\">\n",
       "      <th></th>\n",
       "      <th>Feature</th>\n",
       "      <th>PC1</th>\n",
       "      <th>PC2</th>\n",
       "    </tr>\n",
       "  </thead>\n",
       "  <tbody>\n",
       "    <tr>\n",
       "      <th>0</th>\n",
       "      <td>area</td>\n",
       "      <td>0.466911</td>\n",
       "      <td>0.253614</td>\n",
       "    </tr>\n",
       "    <tr>\n",
       "      <th>1</th>\n",
       "      <td>bedrooms</td>\n",
       "      <td>0.131123</td>\n",
       "      <td>-0.501994</td>\n",
       "    </tr>\n",
       "    <tr>\n",
       "      <th>2</th>\n",
       "      <td>bathrooms</td>\n",
       "      <td>0.320620</td>\n",
       "      <td>-0.322073</td>\n",
       "    </tr>\n",
       "    <tr>\n",
       "      <th>3</th>\n",
       "      <td>stories</td>\n",
       "      <td>0.181371</td>\n",
       "      <td>-0.391036</td>\n",
       "    </tr>\n",
       "    <tr>\n",
       "      <th>4</th>\n",
       "      <td>mainroad</td>\n",
       "      <td>0.298975</td>\n",
       "      <td>0.132957</td>\n",
       "    </tr>\n",
       "    <tr>\n",
       "      <th>5</th>\n",
       "      <td>guestroom</td>\n",
       "      <td>0.202099</td>\n",
       "      <td>-0.060133</td>\n",
       "    </tr>\n",
       "    <tr>\n",
       "      <th>6</th>\n",
       "      <td>basement</td>\n",
       "      <td>0.149324</td>\n",
       "      <td>-0.043661</td>\n",
       "    </tr>\n",
       "    <tr>\n",
       "      <th>7</th>\n",
       "      <td>hotwaterheating</td>\n",
       "      <td>0.004933</td>\n",
       "      <td>-0.122714</td>\n",
       "    </tr>\n",
       "    <tr>\n",
       "      <th>8</th>\n",
       "      <td>airconditioning</td>\n",
       "      <td>0.257295</td>\n",
       "      <td>-0.113094</td>\n",
       "    </tr>\n",
       "    <tr>\n",
       "      <th>9</th>\n",
       "      <td>parking</td>\n",
       "      <td>0.332199</td>\n",
       "      <td>0.046879</td>\n",
       "    </tr>\n",
       "    <tr>\n",
       "      <th>10</th>\n",
       "      <td>prefarea</td>\n",
       "      <td>0.236127</td>\n",
       "      <td>0.040036</td>\n",
       "    </tr>\n",
       "    <tr>\n",
       "      <th>11</th>\n",
       "      <td>semi-furnished</td>\n",
       "      <td>0.114761</td>\n",
       "      <td>-0.224264</td>\n",
       "    </tr>\n",
       "    <tr>\n",
       "      <th>12</th>\n",
       "      <td>unfurnished</td>\n",
       "      <td>-0.247093</td>\n",
       "      <td>0.228075</td>\n",
       "    </tr>\n",
       "    <tr>\n",
       "      <th>13</th>\n",
       "      <td>areaperbedroom</td>\n",
       "      <td>0.349103</td>\n",
       "      <td>0.518731</td>\n",
       "    </tr>\n",
       "    <tr>\n",
       "      <th>14</th>\n",
       "      <td>bbratio</td>\n",
       "      <td>0.219420</td>\n",
       "      <td>0.028230</td>\n",
       "    </tr>\n",
       "  </tbody>\n",
       "</table>\n",
       "</div>"
      ],
      "text/plain": [
       "            Feature       PC1       PC2\n",
       "0              area  0.466911  0.253614\n",
       "1          bedrooms  0.131123 -0.501994\n",
       "2         bathrooms  0.320620 -0.322073\n",
       "3           stories  0.181371 -0.391036\n",
       "4          mainroad  0.298975  0.132957\n",
       "5         guestroom  0.202099 -0.060133\n",
       "6          basement  0.149324 -0.043661\n",
       "7   hotwaterheating  0.004933 -0.122714\n",
       "8   airconditioning  0.257295 -0.113094\n",
       "9           parking  0.332199  0.046879\n",
       "10         prefarea  0.236127  0.040036\n",
       "11   semi-furnished  0.114761 -0.224264\n",
       "12      unfurnished -0.247093  0.228075\n",
       "13   areaperbedroom  0.349103  0.518731\n",
       "14          bbratio  0.219420  0.028230"
      ]
     },
     "execution_count": 30,
     "metadata": {},
     "output_type": "execute_result"
    }
   ],
   "source": [
    "colnames = list(X_train.columns)\n",
    "pcs_df = pd.DataFrame({'PC1':pca.components_[0],'PC2':pca.components_[1], 'Feature':colnames})\n",
    "pcs_df"
   ]
  },
  {
   "cell_type": "markdown",
   "metadata": {},
   "source": [
    "### For variance percentage"
   ]
  },
  {
   "cell_type": "code",
   "execution_count": 32,
   "metadata": {
    "scrolled": true
   },
   "outputs": [
    {
     "data": {
      "text/plain": [
       "array([17.7, 13.6, 11.1,  9.8,  9.2,  7. ,  6.2,  5.7,  5.2,  4.7,  3.9,\n",
       "        3. ,  2.5,  0.2,  0.1])"
      ]
     },
     "execution_count": 32,
     "metadata": {},
     "output_type": "execute_result"
    }
   ],
   "source": [
    "pca.explained_variance_ratio_.round(3)*100"
   ]
  },
  {
   "cell_type": "code",
   "execution_count": 33,
   "metadata": {},
   "outputs": [
    {
     "data": {
      "image/png": "[encoded data removed]",
      "text/plain": [
       "<matplotlib.figure.Figure at 0xb79c810>"
      ]
     },
     "metadata": {},
     "output_type": "display_data"
    }
   ],
   "source": [
    "fig = plt.figure(figsize = (12,8))\n",
    "plt.plot(np.cumsum(pca.explained_variance_ratio_))\n",
    "plt.xlabel('number of components')\n",
    "plt.ylabel('cumulative explained variance')\n",
    "plt.show()"
   ]
  },
  {
   "cell_type": "code",
   "execution_count": 35,
   "metadata": {},
   "outputs": [
    {
     "data": {
      "text/plain": [
       "array([0.17657495, 0.31220978, 0.42330118, 0.52147681, 0.613602  ,\n",
       "       0.68398184, 0.74619755, 0.80324921, 0.85566805, 0.90262382,\n",
       "       0.94169564, 0.97173458, 0.99641316, 0.99879986, 1.        ])"
      ]
     },
     "execution_count": 35,
     "metadata": {},
     "output_type": "execute_result"
    }
   ],
   "source": [
    "np.cumsum(pca.explained_variance_ratio_)"
   ]
  },
  {
   "cell_type": "code",
   "execution_count": 34,
   "metadata": {},
   "outputs": [
    {
     "data": {
      "text/plain": [
       "(381, 8)"
      ]
     },
     "execution_count": 34,
     "metadata": {},
     "output_type": "execute_result"
    }
   ],
   "source": [
    "pca_again = PCA(0.80)\n",
    "df_train_pca2 = pca_again.fit_transform(X_train)\n",
    "df_train_pca2.shape"
   ]
  },
  {
   "cell_type": "code",
   "execution_count": 37,
   "metadata": {},
   "outputs": [
    {
     "data": {
      "text/plain": [
       "-7.45931094670027e-17"
      ]
     },
     "execution_count": 37,
     "metadata": {},
     "output_type": "execute_result"
    }
   ],
   "source": [
    "np.dot(pca.components_[0],pca.components_[1])"
   ]
  },
  {
   "cell_type": "code",
   "execution_count": 38,
   "metadata": {},
   "outputs": [
    {
     "data": {
      "text/plain": [
       "(545, 15)"
      ]
     },
     "execution_count": 38,
     "metadata": {},
     "output_type": "execute_result"
    }
   ],
   "source": [
    "X.shape"
   ]
  },
  {
   "cell_type": "code",
   "execution_count": 44,
   "metadata": {},
   "outputs": [
    {
     "data": {
      "text/plain": [
       "LinearRegression(copy_X=True, fit_intercept=True, n_jobs=1, normalize=False)"
      ]
     },
     "execution_count": 44,
     "metadata": {},
     "output_type": "execute_result"
    }
   ],
   "source": [
    "lr1 = linear_model.LinearRegression()\n",
    "lr1.fit(df_train_pca2,y_train)"
   ]
  },
  {
   "cell_type": "code",
   "execution_count": 47,
   "metadata": {},
   "outputs": [],
   "source": [
    "y_pred_PCA = lr1.predict(pca_again.transform(X_test))"
   ]
  },
  {
   "cell_type": "code",
   "execution_count": 48,
   "metadata": {},
   "outputs": [
    {
     "data": {
      "text/plain": [
       "0.33299853659960704"
      ]
     },
     "execution_count": 48,
     "metadata": {},
     "output_type": "execute_result"
    }
   ],
   "source": [
    "metrics.mean_squared_error(y_test,y_pred_PCA)"
   ]
  },
  {
   "cell_type": "code",
   "execution_count": 50,
   "metadata": {},
   "outputs": [
    {
     "data": {
      "text/plain": [
       "0.34226496913485555"
      ]
     },
     "execution_count": 50,
     "metadata": {},
     "output_type": "execute_result"
    }
   ],
   "source": [
    "pca_Final = PCA(random_state=100)\n",
    "df_train_Final = pca_Final.fit_transform(X_train)\n",
    "lr_PCA = linear_model.LinearRegression()\n",
    "lr_PCA.fit(df_train_Final,y_train)\n",
    "\n",
    "y_pred_Final = lr_PCA.predict(pca_Final.transform(X_test))\n",
    "metrics.mean_squared_error(y_test,y_pred_Final)"
   ]
  },
  {
   "cell_type": "code",
   "execution_count": 51,
   "metadata": {},
   "outputs": [
    {
     "data": {
      "text/plain": [
       "0.33033113902899547"
      ]
     },
     "execution_count": 51,
     "metadata": {},
     "output_type": "execute_result"
    }
   ],
   "source": [
    "pca_13 = PCA(n_components=6,random_state=100)\n",
    "df_train_13 = pca_13.fit_transform(X_train)\n",
    "lr_13 = linear_model.LinearRegression()\n",
    "lr_13.fit(df_train_13,y_train)\n",
    "y_pred_13 = lr_13.predict(pca_13.transform(X_test))\n",
    "metrics.mean_squared_error(y_test,y_pred_13)"
   ]
  }
 ],
 "metadata": {
  "kernelspec": {
   "display_name": "Python 3",
   "language": "python",
   "name": "python3"
  },
  "language_info": {
   "codemirror_mode": {
    "name": "ipython",
    "version": 3
   },
   "file_extension": ".py",
   "mimetype": "text/x-python",
   "name": "python",
   "nbconvert_exporter": "python",
   "pygments_lexer": "ipython3",
   "version": "3.6.4"
  }
 },
 "nbformat": 4,
 "nbformat_minor": 2
}
